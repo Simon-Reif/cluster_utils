{
 "cells": [
  {
   "cell_type": "code",
   "execution_count": 22,
   "metadata": {
    "ExecuteTime": {
     "end_time": "2019-11-20T16:25:13.832364Z",
     "start_time": "2019-11-20T16:25:13.829067Z"
    }
   },
   "outputs": [],
   "source": [
    "import json\n",
    "\n",
    "from cluster.settings import ParamDict, recursive_objectify"
   ]
  },
  {
   "cell_type": "code",
   "execution_count": 26,
   "metadata": {
    "ExecuteTime": {
     "end_time": "2019-11-20T16:29:18.685897Z",
     "start_time": "2019-11-20T16:29:18.672821Z"
    }
   },
   "outputs": [
    {
     "name": "stdout",
     "output_type": "stream",
     "text": [
      "{\n",
      "    \"cluster_requirements\": {\n",
      "        \"bid\": 1000,\n",
      "        \"cuda_requirement\": null,\n",
      "        \"memory_in_mb\": 8000,\n",
      "        \"request_cpus\": 1,\n",
      "        \"request_gpus\": 0\n",
      "    },\n",
      "    \"environment_setup\": {},\n",
      "    \"fixed_params\": {\n",
      "        \"fn_args.noisy\": true\n",
      "    },\n",
      "    \"git_params\": {\n",
      "        \"branch\": \"executable_submodules\",\n",
      "        \"commit\": null\n",
      "    },\n",
      "    \"num_best_jobs_whose_data_is_kept\": 5,\n",
      "    \"optimization_procedure_name\": \"test\",\n",
      "    \"optimization_setting\": {\n",
      "        \"best_fraction_to_use_for_update\": 0.15,\n",
      "        \"fraction_that_need_to_finish\": 0.85,\n",
      "        \"metric_to_optimize\": \"result\",\n",
      "        \"minimize\": true,\n",
      "        \"number_of_samples\": 100,\n",
      "        \"total_rounds\": 8,\n",
      "        \"with_restarts\": true\n",
      "    },\n",
      "    \"optimized_params\": [\n",
      "        {\n",
      "            \"bounds\": [\n",
      "                -3.0,\n",
      "                3.0\n",
      "            ],\n",
      "            \"distribution\": \"TruncatedNormal\",\n",
      "            \"param\": \"fn_args.u\"\n",
      "        },\n",
      "        {\n",
      "            \"bounds\": [\n",
      "                1,\n",
      "                1000\n",
      "            ],\n",
      "            \"distribution\": \"IntLogNormal\",\n",
      "            \"param\": \"fn_args.v\"\n",
      "        },\n",
      "        {\n",
      "            \"bounds\": [\n",
      "                -5,\n",
      "                5\n",
      "            ],\n",
      "            \"distribution\": \"IntNormal\",\n",
      "            \"param\": \"fn_args.w\"\n",
      "        },\n",
      "        {\n",
      "            \"bounds\": [\n",
      "                0.0,\n",
      "                4.0\n",
      "            ],\n",
      "            \"distribution\": \"TruncatedNormal\",\n",
      "            \"param\": \"fn_args.x\"\n",
      "        },\n",
      "        {\n",
      "            \"bounds\": [\n",
      "                0.01,\n",
      "                100.0\n",
      "            ],\n",
      "            \"distribution\": \"TruncatedLogNormal\",\n",
      "            \"param\": \"fn_args.y\"\n",
      "        },\n",
      "        {\n",
      "            \"distribution\": \"Discrete\",\n",
      "            \"options\": [\n",
      "                false,\n",
      "                true\n",
      "            ],\n",
      "            \"param\": \"fn_args.sharp_penalty\"\n",
      "        }\n",
      "    ],\n",
      "    \"results_dir\": \"/tmp/example_results\",\n",
      "    \"script_relative_path\": \"examples/example1/main.py\"\n",
      "}\n"
     ]
    }
   ],
   "source": [
    "with open(\"example1/optimization.json\") as f:\n",
    "    dct = json.load(f)\n",
    "\n",
    "p_dict = recursive_objectify(dct)\n",
    "print(p_dict)"
   ]
  },
  {
   "cell_type": "code",
   "execution_count": 50,
   "metadata": {
    "ExecuteTime": {
     "end_time": "2019-11-20T17:41:03.780666Z",
     "start_time": "2019-11-20T17:41:03.774703Z"
    }
   },
   "outputs": [
    {
     "data": {
      "text/plain": [
       "'print(1001)'"
      ]
     },
     "execution_count": 50,
     "metadata": {},
     "output_type": "execute_result"
    }
   ],
   "source": [
    "def eval_in_json(eval_string):\n",
    "    return eval(eval_string, p_dict)\n",
    "\n",
    "def fstring_in_json(format_string, namespace):\n",
    "    if type(format_string) != str:\n",
    "        return format_string\n",
    "    formatted = eval('f\\\"' + format_string + '\\\"', namespace)\n",
    "    \n",
    "    if formatted == format_string:\n",
    "        return format_string\n",
    "    \n",
    "    try:\n",
    "        return eval(formatted, dict(__builtins__=None))\n",
    "    except:\n",
    "        return formatted\n",
    "\n",
    "fstring_in_json(\"print({cluster_requirements.bid+1})\", p_dict)"
   ]
  },
  {
   "cell_type": "code",
   "execution_count": 40,
   "metadata": {
    "ExecuteTime": {
     "end_time": "2019-11-20T16:51:35.925217Z",
     "start_time": "2019-11-20T16:51:35.908261Z"
    }
   },
   "outputs": [
    {
     "ename": "NameError",
     "evalue": "name 'bla' is not defined",
     "output_type": "error",
     "traceback": [
      "\u001b[0;31m-----------------------------------------------------------\u001b[0m",
      "\u001b[0;31mNameError\u001b[0m                 Traceback (most recent call last)",
      "\u001b[0;32m<ipython-input-40-cf873ef082db>\u001b[0m in \u001b[0;36m<module>\u001b[0;34m\u001b[0m\n\u001b[0;32m----> 1\u001b[0;31m \u001b[0meval\u001b[0m\u001b[0;34m(\u001b[0m\u001b[0;34m\"bla\"\u001b[0m\u001b[0;34m)\u001b[0m\u001b[0;34m\u001b[0m\u001b[0;34m\u001b[0m\u001b[0m\n\u001b[0m",
      "\u001b[0;32m<string>\u001b[0m in \u001b[0;36m<module>\u001b[0;34m\u001b[0m\n",
      "\u001b[0;31mNameError\u001b[0m: name 'bla' is not defined"
     ]
    }
   ],
   "source": [
    "eval(\"bla\")"
   ]
  },
  {
   "cell_type": "code",
   "execution_count": null,
   "metadata": {},
   "outputs": [],
   "source": []
  }
 ],
 "metadata": {
  "kernelspec": {
   "display_name": "Python 3",
   "language": "python",
   "name": "python3"
  },
  "language_info": {
   "codemirror_mode": {
    "name": "ipython",
    "version": 3
   },
   "file_extension": ".py",
   "mimetype": "text/x-python",
   "name": "python",
   "nbconvert_exporter": "python",
   "pygments_lexer": "ipython3",
   "version": "3.6.8"
  }
 },
 "nbformat": 4,
 "nbformat_minor": 2
}
