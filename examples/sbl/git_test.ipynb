{
 "cells": [
  {
   "cell_type": "code",
   "execution_count": 1,
   "metadata": {
    "ExecuteTime": {
     "end_time": "2018-08-17T10:09:56.330939Z",
     "start_time": "2018-08-17T10:09:56.328303Z"
    }
   },
   "outputs": [],
   "source": [
    "import sys\n",
    "sys.path = ['../../'] + sys.path"
   ]
  },
  {
   "cell_type": "code",
   "execution_count": 2,
   "metadata": {
    "ExecuteTime": {
     "end_time": "2018-08-17T10:09:58.023417Z",
     "start_time": "2018-08-17T10:09:56.440639Z"
    }
   },
   "outputs": [],
   "source": [
    "import urllib \n",
    "import os\n",
    "from warnings import warn\n",
    "import cluster.git_utils as git_utils\n",
    "from pathlib import Path\n",
    "from cluster.condor_cluster_system import Condor_ClusterSubmission\n",
    "import git\n",
    "import shutil\n",
    "from cluster.job_manager import cluster_run"
   ]
  },
  {
   "cell_type": "code",
   "execution_count": null,
   "metadata": {
    "ExecuteTime": {
     "end_time": "2018-08-17T09:46:40.323070Z",
     "start_time": "2018-08-17T09:46:40.320332Z"
    }
   },
   "outputs": [],
   "source": [
    "url1 = 'git@gitlab.tuebingen.mpg.de:mrolinek/cluster_utils.git'\n",
    "url2 = '/is/sg/sblaes/'"
   ]
  },
  {
   "cell_type": "code",
   "execution_count": null,
   "metadata": {
    "ExecuteTime": {
     "end_time": "2018-08-17T07:09:26.828336Z",
     "start_time": "2018-08-17T07:09:26.824180Z"
    }
   },
   "outputs": [],
   "source": [
    "urllib.parse.urlparse(url1).scheme"
   ]
  },
  {
   "cell_type": "code",
   "execution_count": null,
   "metadata": {
    "ExecuteTime": {
     "end_time": "2018-08-17T07:11:26.951168Z",
     "start_time": "2018-08-17T07:11:26.946993Z"
    }
   },
   "outputs": [],
   "source": [
    "os.path.exists(url1)"
   ]
  },
  {
   "cell_type": "code",
   "execution_count": null,
   "metadata": {
    "ExecuteTime": {
     "end_time": "2018-08-17T07:35:35.838645Z",
     "start_time": "2018-08-17T07:35:35.834619Z"
    }
   },
   "outputs": [],
   "source": [
    "repo = git.Repo(search_parent_directories=True)"
   ]
  },
  {
   "cell_type": "code",
   "execution_count": null,
   "metadata": {
    "ExecuteTime": {
     "end_time": "2018-08-17T07:35:37.310115Z",
     "start_time": "2018-08-17T07:35:37.306313Z"
    }
   },
   "outputs": [],
   "source": [
    "repo"
   ]
  },
  {
   "cell_type": "code",
   "execution_count": null,
   "metadata": {
    "ExecuteTime": {
     "end_time": "2018-08-17T07:36:55.065581Z",
     "start_time": "2018-08-17T07:36:55.054315Z"
    }
   },
   "outputs": [],
   "source": [
    "repo.remote('orsd')"
   ]
  },
  {
   "cell_type": "code",
   "execution_count": null,
   "metadata": {
    "ExecuteTime": {
     "end_time": "2018-08-17T07:38:14.240002Z",
     "start_time": "2018-08-17T07:38:14.235942Z"
    }
   },
   "outputs": [],
   "source": [
    "'asd\\'asd\\'asd'"
   ]
  },
  {
   "cell_type": "code",
   "execution_count": null,
   "metadata": {
    "ExecuteTime": {
     "end_time": "2018-08-17T07:46:20.198811Z",
     "start_time": "2018-08-17T07:46:16.586423Z"
    }
   },
   "outputs": [],
   "source": [
    "repo = git.Repo.clone_from(url1, '/tmp/testtt', branch='git_integration')"
   ]
  },
  {
   "cell_type": "code",
   "execution_count": null,
   "metadata": {
    "ExecuteTime": {
     "end_time": "2018-08-17T07:47:00.708376Z",
     "start_time": "2018-08-17T07:47:00.704291Z"
    }
   },
   "outputs": [],
   "source": [
    "repo.active_branch.name"
   ]
  },
  {
   "cell_type": "code",
   "execution_count": null,
   "metadata": {
    "ExecuteTime": {
     "end_time": "2018-08-17T07:49:54.199735Z",
     "start_time": "2018-08-17T07:49:54.195108Z"
    }
   },
   "outputs": [],
   "source": [
    "repo.head.commit"
   ]
  },
  {
   "cell_type": "code",
   "execution_count": null,
   "metadata": {
    "ExecuteTime": {
     "end_time": "2018-08-17T07:48:35.597504Z",
     "start_time": "2018-08-17T07:48:35.581619Z"
    }
   },
   "outputs": [],
   "source": [
    "repo.head.commit"
   ]
  },
  {
   "cell_type": "code",
   "execution_count": null,
   "metadata": {
    "ExecuteTime": {
     "end_time": "2018-08-17T08:00:23.430145Z",
     "start_time": "2018-08-17T08:00:23.404080Z"
    }
   },
   "outputs": [],
   "source": [
    "try:\n",
    "    repo.head.reset(commit='488e45')\n",
    "except git.GitCommandError as e:\n",
    "    raise"
   ]
  },
  {
   "cell_type": "code",
   "execution_count": null,
   "metadata": {
    "ExecuteTime": {
     "end_time": "2018-08-17T07:52:08.221770Z",
     "start_time": "2018-08-17T07:52:08.217256Z"
    }
   },
   "outputs": [],
   "source": [
    "repo.commit('git_integration').hexsha"
   ]
  },
  {
   "cell_type": "code",
   "execution_count": null,
   "metadata": {
    "ExecuteTime": {
     "end_time": "2018-08-17T08:49:42.408539Z",
     "start_time": "2018-08-17T08:49:39.195524Z"
    }
   },
   "outputs": [],
   "source": [
    "g = git_utils.GitConnector('/tmp/testtt', 'git@gitlab.tuebingen.mpg.de:mrolinek/cluster_utils.git', 'git_integration', '40888e45')"
   ]
  },
  {
   "cell_type": "code",
   "execution_count": null,
   "metadata": {
    "ExecuteTime": {
     "end_time": "2018-08-17T08:49:42.887479Z",
     "start_time": "2018-08-17T08:49:42.860059Z"
    }
   },
   "outputs": [],
   "source": [
    "print(g.formatted_meta_information)"
   ]
  },
  {
   "cell_type": "code",
   "execution_count": null,
   "metadata": {
    "ExecuteTime": {
     "end_time": "2018-08-17T08:49:26.954431Z",
     "start_time": "2018-08-17T08:49:26.923863Z"
    }
   },
   "outputs": [],
   "source": [
    "g.remove_local_copy()"
   ]
  },
  {
   "cell_type": "code",
   "execution_count": null,
   "metadata": {
    "ExecuteTime": {
     "end_time": "2018-08-17T09:13:00.855046Z",
     "start_time": "2018-08-17T09:13:00.844733Z"
    }
   },
   "outputs": [],
   "source": [
    "home"
   ]
  },
  {
   "cell_type": "code",
   "execution_count": 5,
   "metadata": {
    "ExecuteTime": {
     "end_time": "2018-08-17T10:10:02.686963Z",
     "start_time": "2018-08-17T10:10:02.679844Z"
    }
   },
   "outputs": [],
   "source": [
    "submission_name = 'test'\n",
    "home = str(Path.home())\n",
    "git_url = 'git@gitlab.tuebingen.mpg.de:mrolinek/cluster_utils.git'\n",
    "git_local_path = '/tmp/testt/git'\n",
    "results_path = '/tmp/testt/results'\n",
    "\n",
    "git_params = dict(url=git_url,\n",
    "                  branch='git_integration',\n",
    "                  commit=None,\n",
    "                  remove_local_copy=True,\n",
    "                 )\n",
    "\n",
    "paths_and_files = dict(git_local_path=git_local_path,\n",
    "                       script_to_run=os.path.join('examples/sbl/git_test.py'), # relative to git_local_path\n",
    "                       result_dir=os.path.join(results_path, 'results', 'cluster', submission_name),\n",
    "                       jobs_dir=os.path.join(results_path, 'jobs', submission_name))\n",
    "\n",
    "submission_requirements = dict(request_cpus=1,\n",
    "                               request_gpus=0,\n",
    "                               cuda_requirement=None,  # 'x.0' or None\n",
    "                               memory_in_mb=4000,\n",
    "                               bid=10)\n",
    "\n",
    "other_params = {}\n",
    "\n",
    "hyperparam_dict = {'u': [1,2,3],\n",
    "                   }\n",
    "\n",
    "submit = True\n",
    "\n",
    "all_args = dict(submission_name=submission_name,\n",
    "                paths=paths_and_files,\n",
    "                submission_requirements=submission_requirements,\n",
    "                hyperparam_dict=hyperparam_dict,\n",
    "                other_params=other_params,\n",
    "                samples=None,\n",
    "                restarts_per_setting=1,\n",
    "                smart_naming=True,\n",
    "                git_params=git_params)"
   ]
  },
  {
   "cell_type": "code",
   "execution_count": 6,
   "metadata": {
    "ExecuteTime": {
     "end_time": "2018-08-17T10:10:03.537111Z",
     "start_time": "2018-08-17T10:10:03.513310Z"
    }
   },
   "outputs": [
    {
     "name": "stdout",
     "output_type": "stream",
     "text": [
      "Jobs created: 3\n"
     ]
    }
   ],
   "source": [
    "submission = cluster_run(**all_args)"
   ]
  },
  {
   "cell_type": "code",
   "execution_count": 7,
   "metadata": {
    "ExecuteTime": {
     "end_time": "2018-08-17T10:10:04.470712Z",
     "start_time": "2018-08-17T10:10:04.464298Z"
    }
   },
   "outputs": [
    {
     "data": {
      "text/plain": [
       "{'submitted': False,\n",
       " 'finished': False,\n",
       " 'git_local_path': '/tmp/testt/git',\n",
       " 'git_commit': None,\n",
       " 'git_branch': 'git_integration',\n",
       " 'git_url': 'git@gitlab.tuebingen.mpg.de:mrolinek/cluster_utils.git',\n",
       " 'cmds': <generator object cluster_run.<locals>.generate_commands at 0x7fa99199bdb0>,\n",
       " 'submission_dir': '/tmp/testt/results/jobs/test',\n",
       " 'mem': 4000,\n",
       " 'cpus': 1,\n",
       " 'gpus': 0,\n",
       " 'bid': 10,\n",
       " 'cuda_line': '',\n",
       " 'partition': 'general',\n",
       " 'constraint': '',\n",
       " 'name': 'test',\n",
       " 'exceptions_seen': set(),\n",
       " 'submit_all_file': '/tmp/testt/results/jobs/test/submit_test.sh',\n",
       " 'submission_cmds': ['condor_submit_bid 10 /tmp/testt/results/jobs/test/test_1.sh.sub\\n',\n",
       "  'condor_submit_bid 10 /tmp/testt/results/jobs/test/test_2.sh.sub\\n',\n",
       "  'condor_submit_bid 10 /tmp/testt/results/jobs/test/test_0.sh.sub\\n']}"
      ]
     },
     "execution_count": 7,
     "metadata": {},
     "output_type": "execute_result"
    }
   ],
   "source": [
    "submission.__dict__"
   ]
  },
  {
   "cell_type": "code",
   "execution_count": null,
   "metadata": {
    "ExecuteTime": {
     "end_time": "2018-08-17T09:43:46.256915Z",
     "start_time": "2018-08-17T09:43:46.248121Z"
    }
   },
   "outputs": [],
   "source": [
    "Condor_ClusterSubmission()"
   ]
  },
  {
   "cell_type": "code",
   "execution_count": null,
   "metadata": {
    "ExecuteTime": {
     "end_time": "2018-08-17T10:04:25.768917Z",
     "start_time": "2018-08-17T10:04:25.766047Z"
    }
   },
   "outputs": [],
   "source": [
    "a = None"
   ]
  },
  {
   "cell_type": "code",
   "execution_count": null,
   "metadata": {
    "ExecuteTime": {
     "end_time": "2018-08-17T10:04:29.554710Z",
     "start_time": "2018-08-17T10:04:29.550213Z"
    }
   },
   "outputs": [],
   "source": [
    "bool(a)"
   ]
  },
  {
   "cell_type": "code",
   "execution_count": null,
   "metadata": {},
   "outputs": [],
   "source": []
  }
 ],
 "metadata": {
  "kernelspec": {
   "display_name": "Python 3",
   "language": "python",
   "name": "python3"
  },
  "language_info": {
   "codemirror_mode": {
    "name": "ipython",
    "version": 3
   },
   "file_extension": ".py",
   "mimetype": "text/x-python",
   "name": "python",
   "nbconvert_exporter": "python",
   "pygments_lexer": "ipython3",
   "version": "3.6.6"
  },
  "toc": {
   "base_numbering": 1,
   "nav_menu": {},
   "number_sections": true,
   "sideBar": true,
   "skip_h1_title": false,
   "title_cell": "Table of Contents",
   "title_sidebar": "Contents",
   "toc_cell": false,
   "toc_position": {},
   "toc_section_display": true,
   "toc_window_display": false
  }
 },
 "nbformat": 4,
 "nbformat_minor": 2
}
